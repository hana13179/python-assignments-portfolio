{
  "nbformat": 4,
  "nbformat_minor": 0,
  "metadata": {
    "colab": {
      "provenance": []
    },
    "kernelspec": {
      "name": "python3",
      "display_name": "Python 3"
    },
    "language_info": {
      "name": "python"
    }
  },
  "cells": [
    {
      "cell_type": "code",
      "execution_count": 1,
      "metadata": {
        "colab": {
          "base_uri": "https://localhost:8080/"
        },
        "id": "DjZlHHjw4l3C",
        "outputId": "7e43840c-0c4e-4428-8d7c-41b8f129ab42"
      },
      "outputs": [
        {
          "output_type": "stream",
          "name": "stdout",
          "text": [
            "t0: 2.290087686017293 t*: 2.2522252225222523\n",
            "Reject null hypothesis\n"
          ]
        }
      ],
      "source": [
        "import numpy as np\n",
        "from scipy.special import gamma\n",
        "\n",
        "# Given student scores\n",
        "scores = [92.64, 79.00, 84.79, 97.41, 93.68, 65.23, 84.50, 73.49, 73.97, 79.11]\n",
        "\n",
        "# Compute mean\n",
        "total = sum(scores)\n",
        "mean = total / len(scores)\n",
        "\n",
        "# Compute standard deviation\n",
        "sum_differences_squared = sum((mean - i) ** 2 for i in scores)\n",
        "st_dev = (sum_differences_squared / (len(scores) - 1)) ** 0.5  # Correct formula\n",
        "\n",
        "# Function for t-distribution probability density function\n",
        "def t_distribution_pdf(x, nu):\n",
        "    \"\"\"\n",
        "    Compute the probability density of the t-distribution at a given point x with nu degrees of freedom.\n",
        "    \"\"\"\n",
        "    coeff = gamma((nu + 1) / 2) / (np.sqrt(nu * np.pi) * gamma(nu / 2))  # Fixed multiplication errors\n",
        "    density = coeff * (1 + x**2 / nu) ** (-0.5 * (nu + 1))  # Fixed exponentiation\n",
        "    return density\n",
        "\n",
        "# Function to find t-star\n",
        "def find_t_star(prob, nu, x_start=0, x_end=20, num_points=10000):\n",
        "    \"\"\"\n",
        "    Find the t-value t* for a given cumulative probability and degrees of freedom.\n",
        "    \"\"\"\n",
        "    x = np.linspace(x_start, x_end, num_points)  # Define x values\n",
        "    y = t_distribution_pdf(x, nu)  # Compute probability densities\n",
        "    cdf = np.cumsum(y) * (x[1] - x[0])  # Compute cumulative sum for numerical integration\n",
        "    target_half_prob = prob / 2\n",
        "    index = np.where(cdf >= target_half_prob)[0][0]\n",
        "    return x[index]\n",
        "\n",
        "# Compute t* for 95% confidence level\n",
        "t_star = find_t_star(0.95, len(scores) - 1)\n",
        "\n",
        "# Compute t0\n",
        "t_0 = (mean - 75) / (st_dev / (len(scores) ** 0.5))  # Corrected formula\n",
        "\n",
        "# Print t0 and t*\n",
        "print(\"t0:\", t_0, \"t*:\", t_star)\n",
        "\n",
        "# Function to check if t0 is within [-t*, t*]\n",
        "def within(t0, star):\n",
        "    return abs(t0) <= star  # Simplified logic\n",
        "\n",
        "# Print result of hypothesis test\n",
        "print(\"Accept null hypothesis?\" if within(t_0, t_star) else \"Reject null hypothesis\")\n"
      ]
    },
    {
      "cell_type": "code",
      "source": [],
      "metadata": {
        "id": "iJ-AW9zd4vdD"
      },
      "execution_count": null,
      "outputs": []
    }
  ]
}