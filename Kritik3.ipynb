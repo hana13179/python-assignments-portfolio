{
 "cells": [
  {
   "cell_type": "code",
   "execution_count": 29,
   "id": "71bdb3c4-527e-4d7e-b687-75e93df092f5",
   "metadata": {},
   "outputs": [
    {
     "name": "stdout",
     "output_type": "stream",
     "text": [
      "x1: 1.3162277470840815\n",
      "x2: 0.6837722463120927\n",
      "x1: 1.1427011907178808\n",
      "x2: 0.37786679797552314\n",
      "x1: 0.13816505269584523\n",
      "x2: -0.14483469209924077\n"
     ]
    }
   ],
   "source": [
    "import sympy as sp\n",
    "import numpy as np\n",
    "\n",
    "def central_difference_derivative(f, c, delta_x=10**-8):\n",
    "    return (f(c + delta_x) - f(c - delta_x)) / (2 * delta_x)\n",
    "\n",
    "def L(f_of_c, f_prime_c, x, c):\n",
    "    return f_of_c + f_prime_c * (x - c)\n",
    "\n",
    "def find_x(f, c, E, x, decrease_x, run_max=1000):\n",
    "    f_of_c=f(c)\n",
    "    f_prime_c=central_difference_derivative(f,c)\n",
    "    if f_prime_c==0:\n",
    "        raise ValueError (\"Derivative=zero: cannot perform linear approximation\")\n",
    "\n",
    "    for _ in range(run_max):\n",
    "        lin=L (f_of_c, f_prime_c,x,c)\n",
    "        error=abs(f(x)-lin)\n",
    "        if abs(error-E)<1e-8:\n",
    "            return x\n",
    "        adjustment = (error-E)/f_prime_c\n",
    "        x=x-adjustment if decrease_x else x +adjustment \n",
    "    raise RuntimeError (\"Failed\")\n",
    "\n",
    "def pring(f, c, E):\n",
    "    x1 = find_x(f, c, E, c - 0.1, decrease_x=True)\n",
    "    x2 = find_x(f, c, E, c + 0.1, decrease_x=False)\n",
    "    return x1, x2\n",
    "\n",
    "#Function f(x) 1 \n",
    "\n",
    "def f(x):\n",
    "    return x**2\n",
    "    \n",
    "c=1\n",
    "E=0.1\n",
    "\n",
    "x1,x2 =pring(f,c,E)\n",
    "print(\"x1:\", x1)\n",
    "print(\"x2:\", x2)\n",
    "\n",
    "#Output: \n",
    "#x1: 1.3162277470840815\n",
    "#x2: 0.6837722463120927\n",
    "\n",
    "#Function f(x) 2 \n",
    "def f(x):\n",
    "    return np.sin(x)\n",
    "\n",
    "c= np.pi/4\n",
    "E=0.05\n",
    "\n",
    "x1,x2 = pring (f,c,E)\n",
    "print(\"x1:\", x1)\n",
    "print(\"x2:\", x2)\n",
    "\n",
    "#Outp\n",
    "\n",
    "#Function f(x) 3 \n",
    "def f(x):\n",
    "    return np.exp(x)\n",
    "\n",
    "c=0\n",
    "E=0.01\n",
    "\n",
    "x1,x2=pring(f,c,E)\n",
    "print(\"x1:\", x1)\n",
    "print(\"x2:\", x2)"
   ]
  },
  {
   "cell_type": "code",
   "execution_count": null,
   "id": "ee6288c8-ca79-44ec-9331-46fa08de4fa6",
   "metadata": {},
   "outputs": [],
   "source": []
  },
  {
   "cell_type": "code",
   "execution_count": null,
   "id": "e29a5e8f-7ffa-496c-abea-565a7dcaf003",
   "metadata": {},
   "outputs": [],
   "source": []
  },
  {
   "cell_type": "code",
   "execution_count": null,
   "id": "756d8a78-1b99-4284-810d-e7698963ca85",
   "metadata": {},
   "outputs": [],
   "source": []
  },
  {
   "cell_type": "code",
   "execution_count": null,
   "id": "c2ec0a7d-56cf-4ce6-993d-cb6d09d53de1",
   "metadata": {},
   "outputs": [],
   "source": []
  },
  {
   "cell_type": "code",
   "execution_count": null,
   "id": "5d2e5c2e-7135-404e-954d-5599cf599050",
   "metadata": {},
   "outputs": [],
   "source": []
  },
  {
   "cell_type": "code",
   "execution_count": null,
   "id": "857b26ce-4561-4ab4-ac24-b0ae87d9dcf6",
   "metadata": {},
   "outputs": [],
   "source": []
  },
  {
   "cell_type": "code",
   "execution_count": null,
   "id": "73f06d63-695e-4634-bb65-3cdfc3a6ba31",
   "metadata": {},
   "outputs": [],
   "source": []
  },
  {
   "cell_type": "code",
   "execution_count": null,
   "id": "8d70a127-0a00-42c4-8486-710d72cc23ea",
   "metadata": {},
   "outputs": [],
   "source": []
  }
 ],
 "metadata": {
  "kernelspec": {
   "display_name": "Python 3 (ipykernel)",
   "language": "python",
   "name": "python3"
  },
  "language_info": {
   "codemirror_mode": {
    "name": "ipython",
    "version": 3
   },
   "file_extension": ".py",
   "mimetype": "text/x-python",
   "name": "python",
   "nbconvert_exporter": "python",
   "pygments_lexer": "ipython3",
   "version": "3.11.9"
  }
 },
 "nbformat": 4,
 "nbformat_minor": 5
}
