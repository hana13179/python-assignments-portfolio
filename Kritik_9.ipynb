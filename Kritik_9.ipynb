{
  "nbformat": 4,
  "nbformat_minor": 0,
  "metadata": {
    "colab": {
      "provenance": []
    },
    "kernelspec": {
      "name": "python3",
      "display_name": "Python 3"
    },
    "language_info": {
      "name": "python"
    }
  },
  "cells": [
    {
      "cell_type": "code",
      "execution_count": null,
      "metadata": {
        "id": "RmEIrBMsJmI3"
      },
      "outputs": [],
      "source": []
    },
    {
      "cell_type": "markdown",
      "source": [
        "SymPy is a Python library for symbolic mathematics. It aims to become\n",
        "a full-featured computer algebra system (CAS) while keeping the code as\n",
        "simple as possible to be comprehensible and easily extensible. SymPy is\n",
        "written entirely in Python and provides tools for various mathematical\n",
        "tasks, including solving equations, integration, differentiation, and limit\n",
        "calculations.\n",
        "Getting Started with SymPy:\n",
        "To use SymPy, you first need to install it (if it’s not already installed) and\n",
        "then import it in your Python script or notebook. Here is how you can\n",
        "install SymPy:\n",
        "pip install sympy\n",
        "After installing, you can start using SymPy by importing it:\n",
        "import sympy as sp\n",
        "Examples:\n",
        "(i) Defining Symbols: In SymPy, you must explicitly define the sym-\n",
        "bols you want to use:\n",
        "x, y = sp.symbols('x y')\n",
        "(ii) Differentiation To differentiate a function with respect to a vari-\n",
        "able:\n",
        "# Define a function\n",
        "f = x**2 + sp.sin(y)\n",
        "# Differentiate f with respect to x\n",
        "df_dx = sp.diff(f, x)\n",
        "# Differentiate f with respect to y\n",
        "df_dy = sp.diff(f, y)\n",
        "Exercises\n",
        "(a) Define the function f (x, y) = ex sin(y)+y3. Compute the first partial\n",
        "derivatives ∂f\n",
        "∂x and ∂f\n",
        "∂y.\n",
        "(b) Given the function g(x, y) = x2y + xy2, find the gradient vector and\n",
        "compute its magnitude at the point (1,−1).\n",
        "2\n",
        "(c) For the function h(x, y) = ln(x2 + y2), find the second partial deriva-\n",
        "tives ∂2 h\n",
        "∂2 h\n",
        "∂x2 ,\n",
        "∂y2 , and ∂2 h\n",
        "∂x∂y . Discuss the symmetry of mixed partial\n",
        "derivatives.\n",
        "(d) To create a contour plot of the function j(x, y) = x3\n",
        "−3xy +y3, follow\n",
        "these steps:\n",
        "i. Import the necessary libraries:\n",
        "import sympy as sp\n",
        "import numpy as np\n",
        "import matplotlib.pyplot as plt\n",
        "ii. Define the function using SymPy:\n",
        "x, y = sp.symbols('x y')\n",
        "j = x**3 - 3*x*y + y**3\n",
        "iii. Convert the SymPy expression to a numerical function:\n",
        "j_func = sp.lambdify((x, y), j, 'numpy')\n",
        "iv. Create a grid of x and y values and evaluate j on this grid:\n",
        "x_vals = np.linspace(-3, 3, 400)\n",
        "y_vals = np.linspace(-3, 3, 400)\n",
        "X, Y = np.meshgrid(x_vals, y_vals)\n",
        "Z = j_func(X, Y)\n",
        "v. Plot the contour:\n",
        "plt.contourf(X, Y, Z, levels=50, cmap='viridis')\n",
        "plt.colorbar()\n",
        "plt.title('Contour plot of $j(x, y) = x^3 - 3xy + y^3$')\n",
        "plt.xlabel('$x$')\n",
        "plt.ylabel('$y$')\n",
        "plt.show()\n",
        "(e) Create another contour plot of a function of your choice.\n",
        "3"
      ],
      "metadata": {
        "id": "qYnfAjULJuou"
      }
    }
  ]
}