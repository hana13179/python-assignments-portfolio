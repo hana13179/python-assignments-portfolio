{
  "nbformat": 4,
  "nbformat_minor": 0,
  "metadata": {
    "colab": {
      "provenance": []
    },
    "kernelspec": {
      "name": "python3",
      "display_name": "Python 3"
    },
    "language_info": {
      "name": "python"
    }
  },
  "cells": [
    {
      "cell_type": "code",
      "execution_count": 1,
      "metadata": {
        "id": "czR4miTT4hsf",
        "colab": {
          "base_uri": "https://localhost:8080/"
        },
        "outputId": "36f3675f-9388-4284-f71c-f2ac12bad511"
      },
      "outputs": [
        {
          "output_type": "stream",
          "name": "stdout",
          "text": [
            "Probability = 0.8938058910411586\n"
          ]
        }
      ],
      "source": [
        "import numpy as np\n",
        "import matplotlib.pyplot as plt\n",
        "\n",
        "def normal_density(mean, variance, x):\n",
        "    \"\"\"Computes the normal density function for given mean and variance.\"\"\"\n",
        "    return (1 / np.sqrt(2 * np.pi * variance)) * np.exp(-((x - mean) ** 2) / (2 * variance))\n",
        "\n",
        "def integration(mean, variance, a, b):\n",
        "    \"\"\"Numerically integrates the normal density function using the midpoint Riemann sum.\"\"\"\n",
        "    n = 5000  # Number of intervals\n",
        "    x = np.linspace(a, b, n + 1)  # Define partition points\n",
        "    midpoints = (x[:-1] + x[1:]) / 2  # Compute midpoints\n",
        "    mpsum = sum(normal_density(mean, variance, mid) for mid in midpoints)  # Sum function values at midpoints\n",
        "    integrated_mpsum = mpsum * (b - a) / n  # Multiply by interval width\n",
        "    return integrated_mpsum\n",
        "\n",
        "# Compute probability\n",
        "probability = integration(171, 7.1**2, 162, 190)\n",
        "print(\"Probability =\", probability)\n"
      ]
    },
    {
      "cell_type": "code",
      "source": [
        "\n",
        "import numpy as np\n",
        "\n",
        "def expected_dose(mean, variance):\n",
        "    \"\"\"\n",
        "    Calculates the expected drug dose based on a normal distribution\n",
        "    of male height, using the given formula D(x) = 2.38 * x^2.\n",
        "    \"\"\"\n",
        "    # Expected height is simply the mean of the normal distribution\n",
        "    expected_height = mean\n",
        "\n",
        "    # Drug dose formula: D(x) = 2.38 * x^2\n",
        "    expected_dose = 2.38 * expected_height**2\n",
        "\n",
        "    return expected_dose\n",
        "\n",
        "# Given values\n",
        "mean_height = 171  # cm\n",
        "variance_height = 7.1**2  # cm^2\n",
        "\n",
        "# Calculate expected dosage\n",
        "dose = expected_dose(mean_height, variance_height)\n",
        "print(\"Expected drug dose:\", dose, \"mg\")\n",
        "\n",
        "\n",
        "\n",
        "# Also from using the formula\n",
        "# E[D(X)] = 2.38 * E [X^2]\n",
        "# E[X^2]= μ^2 + σ^2\n",
        "# E[D(X)]= 2.38 * (171^2 + 7.1 ^2)\n",
        "# confirms expected drug dose = 69 713.56 mg\n",
        "\n"
      ],
      "metadata": {
        "colab": {
          "base_uri": "https://localhost:8080/"
        },
        "id": "6ig2rX-gzXMy",
        "outputId": "26d2e65c-cc34-429a-fcaf-eecc4af652da"
      },
      "execution_count": 2,
      "outputs": [
        {
          "output_type": "stream",
          "name": "stdout",
          "text": [
            "Expected drug dose: 69593.58 mg\n"
          ]
        }
      ]
    },
    {
      "cell_type": "code",
      "source": [
        "import numpy as np\n",
        "\n",
        "def functionnnn (mean, variance, a, b):\n",
        "    \"\"\"Finds the most common height (mode) and calculates drug dose.\"\"\"\n",
        "    n = 50000\n",
        "    x = np.linspace(a, b, n + 1)\n",
        "    mostcommonheight = x[0]  # Initialize with the first height value\n",
        "\n",
        "    for i in x[1:n+1]:\n",
        "        if normal_density(mean, variance, i) > normal_density(mean, variance, mostcommonheight):\n",
        "            mostcommonheight = i  # Update most common height\n",
        "\n",
        "    drugdose = mostcommonheight * 2.38 * mostcommonheight\n",
        "    return drugdose\n",
        "\n",
        "# Compute and print the dosing\n",
        "print(\"Dosing =\", functionnnn (171, 7.1**2, 0, 300))\n",
        "\n"
      ],
      "metadata": {
        "colab": {
          "base_uri": "https://localhost:8080/"
        },
        "id": "b-dmJREV1pCW",
        "outputId": "47df351b-0540-4627-a8cf-3611f34717f4"
      },
      "execution_count": 3,
      "outputs": [
        {
          "output_type": "stream",
          "name": "stdout",
          "text": [
            "Dosing = 69593.57999999999\n"
          ]
        }
      ]
    },
    {
      "cell_type": "code",
      "source": [
        "# Define the probability density function (PDF) of a uniform distribution\n",
        "def uniform_pdf(lower, upper, value):\n",
        "    if lower <= value <= upper:\n",
        "        return 1 / (upper - lower)\n",
        "    else:\n",
        "        return 0\n",
        "\n",
        "# Function to compute the expected value using numerical integration\n",
        "def compute_expected_value(pdf_function, lower, upper):\n",
        "    step_size = 1e-5  # Small increment for numerical integration\n",
        "    num_steps = int((upper - lower) / step_size)\n",
        "    expected_sum = 0\n",
        "\n",
        "    for step in range(num_steps):\n",
        "        x_value = lower + step * step_size\n",
        "        probability = pdf_function(lower, upper, x_value)\n",
        "        expected_sum += x_value * probability * step_size\n",
        "\n",
        "    return expected_sum\n",
        "\n",
        "# Compute the expected value of a uniform distribution over [0,1]\n",
        "expected_result = compute_expected_value(uniform_pdf, 0, 1)\n",
        "print(f'Therefore, the expected value of the uniform distribution is {expected_result:.5f}')\n"
      ],
      "metadata": {
        "colab": {
          "base_uri": "https://localhost:8080/"
        },
        "id": "lh1jV-tVsJvH",
        "outputId": "83ce58f8-837c-4c5a-fbaa-ef9456c6b75b"
      },
      "execution_count": 9,
      "outputs": [
        {
          "output_type": "stream",
          "name": "stdout",
          "text": [
            "Therefore, the expected value of the uniform distribution is 0.49999\n"
          ]
        }
      ]
    },
    {
      "cell_type": "code",
      "source": [
        "# Exponential distribution\n",
        "def exponential_pdf(lambda_param, value):\n",
        "    if value >= 0:\n",
        "        return lambda_param * np.exp(-lambda_param * value)\n",
        "    else:\n",
        "        return 0\n",
        "\n",
        "def compute_expected_value(pdf_function, lambda_param, lower_bound, upper_bound):\n",
        "    step_size = 1e-5\n",
        "    num_steps = int((upper_bound - lower_bound) / step_size)\n",
        "    expected_sum = 0\n",
        "    for step in range(num_steps):\n",
        "        x_value = lower_bound + step * step_size\n",
        "        probability = pdf_function(lambda_param, x_value)\n",
        "        expected_sum = expected_sum + x_value * probability * step_size\n",
        "\n",
        "    return expected_sum\n",
        "\n",
        "\n",
        "print(\"Therefore the expected time between pandemics is: \" + str(compute_expected_value(exponential_pdf, 1/50, 0, 50)))\n",
        "\n",
        "print(\"This is not what I expected, as I would tend to expect that the expected value would be closer to 50.\")\n"
      ],
      "metadata": {
        "colab": {
          "base_uri": "https://localhost:8080/"
        },
        "id": "PCoHHCGcufFR",
        "outputId": "20a6fc0d-3ce1-4234-f16d-82b484da42ae"
      },
      "execution_count": 13,
      "outputs": [
        {
          "output_type": "stream",
          "name": "stdout",
          "text": [
            "Therefore the expected time between pandemics is: 13.212054043457762\n",
            "This is not what I expected, as I would tend to expect that the expected value would be closer to 50.\n"
          ]
        }
      ]
    },
    {
      "cell_type": "markdown",
      "source": [],
      "metadata": {
        "id": "nvdxSOnVtujL"
      }
    },
    {
      "cell_type": "code",
      "source": [
        "# Define dosage function\n",
        "def compute_dosage(amount):\n",
        "    return 2.38 * (amount ** 2)\n",
        "\n",
        "def compute_expected_dosage(pdf_function, dosage_function, mean_value, variance_value, lower_bound, upper_bound):\n",
        "    step_size = 1e-5\n",
        "    num_steps = int((upper_bound - lower_bound) / step_size)\n",
        "    expected_sum = 0\n",
        "\n",
        "    for step in range(num_steps):\n",
        "        x_value = lower_bound + step * step_size\n",
        "        probability = pdf_function(mean_value, variance_value, x_value)\n",
        "        expected_sum = expected_sum + dosage_function(x_value) * probability * step_size\n",
        "\n",
        "    return expected_sum\n",
        "\n",
        "print('Therefore, the required dosage is ' + str(compute_expected_dosage(normal_density, compute_dosage, 171, 7.1**2, 0, 250)) + ' units.')\n"
      ],
      "metadata": {
        "id": "EoWXhHPxtw-G"
      },
      "execution_count": null,
      "outputs": []
    }
  ]
}