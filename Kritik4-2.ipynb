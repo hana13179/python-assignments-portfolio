{
 "cells": [
  {
   "cell_type": "code",
   "execution_count": 1,
   "id": "e27a1223-1234-4b38-852a-af5eaf94fe6d",
   "metadata": {},
   "outputs": [
    {
     "ename": "SyntaxError",
     "evalue": "invalid non-printable character U+00A0 (1876164859.py, line 6)",
     "output_type": "error",
     "traceback": [
      "\u001b[0;36m  Cell \u001b[0;32mIn[1], line 6\u001b[0;36m\u001b[0m\n\u001b[0;31m    return x**2\u001b[0m\n\u001b[0m    ^\u001b[0m\n\u001b[0;31mSyntaxError\u001b[0m\u001b[0;31m:\u001b[0m invalid non-printable character U+00A0\n"
     ]
    }
   ],
   "source": [
    "import matplotlib.pyplot as plt\n",
    "import numpy as np\n",
    "\n",
    "#define the three functions:\n",
    "def f1(x): #x^2\n",
    "    return x**2\n",
    "\n",
    "def f2(x): #x^4 - 2x^2\n",
    "    return (x**4)-(2*(x**2))\n",
    "    \n",
    "def f3(x): #abs(x^x)\n",
    "    if x>0:\n",
    "        return x**x\n",
    "    elif x==0:\n",
    "        return 1\n",
    "    else:\n",
    "        return abs(x)**abs(x)\n",
    "        \n",
    "def deriv(f, initial_point):\n",
    "    return (f(initial_point+10**(-5))-f(initial_point))/(10**(-5)) #choose some low x > 0 to check for the IROC at this point\n",
    "    \n",
    "def gradient_descent(f, learning_rate, initial_point):\n",
    "    x_coords=[initial_point]\n",
    "    y_coords=[f(initial_point)]\n",
    "    i=0\n",
    "    while abs(deriv(f, x_coords[i]))>0.001 : #loop continues, adding more points until the derivative is almost 0\n",
    "        i+=1\n",
    "        x_coords.append(x_coords[i-1]-learning_rate*deriv(f, x_coords[i-1]))\n",
    "        y_coords.append(f(x_coords[i-1]-learning_rate*deriv(f, x_coords[i-1])))\n",
    "    #plot the function\n",
    "    plot_range=np.linspace(min(x_coords) - 1, max(x_coords) + 1,10000) #set x range of values to show on graph\n",
    "    function_range=[f(i) for i in plot_range] #set y range of values to show on graph\n",
    "    plt.plot(plot_range, function_range) #actual function plot\n",
    "    plt.plot(x_coords, y_coords) #gradient descent plot\n",
    "    plt.show()\n",
    "    return(round(x_coords[i-1],3), round(y_coords[i-1],3)) #returns the final point\n",
    "\n",
    "print(gradient_descent(f3, 0.03,2))\n",
    "\n",
    "\n",
    "# change the function from f3 to any other functions to try!\n",
    "\n"
   ]
  },
  {
   "cell_type": "code",
   "execution_count": null,
   "id": "9d02aa1f-d3eb-41b7-b55b-4e3adeea9439",
   "metadata": {},
   "outputs": [],
   "source": []
  }
 ],
 "metadata": {
  "kernelspec": {
   "display_name": "base",
   "language": "python",
   "name": "python3"
  },
  "language_info": {
   "codemirror_mode": {
    "name": "ipython",
    "version": 3
   },
   "file_extension": ".py",
   "mimetype": "text/x-python",
   "name": "python",
   "nbconvert_exporter": "python",
   "pygments_lexer": "ipython3",
   "version": "3.12.2"
  }
 },
 "nbformat": 4,
 "nbformat_minor": 5
}
